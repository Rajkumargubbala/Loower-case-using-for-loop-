{
 "cells": [
  {
   "cell_type": "code",
   "execution_count": 6,
   "id": "040ec699",
   "metadata": {},
   "outputs": [
    {
     "name": "stdout",
     "output_type": "stream",
     "text": [
      "****** \n",
      "      *\n",
      " ******\n",
      "*     *\n",
      " ***** *\n"
     ]
    }
   ],
   "source": [
    "a=1\n",
    "for a in range(6):\n",
    "    if a==1:\n",
    "        print(\"****** \")\n",
    "    elif a==2:\n",
    "        print(\"      *\")\n",
    "    elif a==3:\n",
    "        print(\" ******\")\n",
    "    elif a==4:\n",
    "        print(\"*     *\")\n",
    "    elif a==5:\n",
    "        print(\" ***** *\")"
   ]
  },
  {
   "cell_type": "code",
   "execution_count": 8,
   "id": "fc50da6d",
   "metadata": {},
   "outputs": [
    {
     "name": "stdout",
     "output_type": "stream",
     "text": [
      "*     \n",
      "*     \n",
      "***** \n",
      "*    *\n",
      "*****\n"
     ]
    }
   ],
   "source": [
    "a=1\n",
    "for a in range(6):\n",
    "    if a==1:\n",
    "        print(\"*     \")\n",
    "    elif a==2:\n",
    "        print(\"*     \")\n",
    "    elif a==3:\n",
    "        print(\"***** \")\n",
    "    elif a==4:\n",
    "        print(\"*    *\")\n",
    "    elif a==5:\n",
    "        print(\"*****\")"
   ]
  },
  {
   "cell_type": "code",
   "execution_count": 9,
   "id": "c357a9f7",
   "metadata": {},
   "outputs": [
    {
     "name": "stdout",
     "output_type": "stream",
     "text": [
      "     \n",
      " ****\n",
      "*    \n",
      "*    \n",
      " ****\n"
     ]
    }
   ],
   "source": [
    "a=1\n",
    "for a in range(6):\n",
    "    if a==1:\n",
    "        print(\"     \")\n",
    "    elif a==2:\n",
    "        print(\" ****\")\n",
    "    elif a==3:\n",
    "        print(\"*    \")\n",
    "    elif a==4:\n",
    "        print(\"*    \")\n",
    "    elif a==5:\n",
    "        print(\" ****\")"
   ]
  },
  {
   "cell_type": "code",
   "execution_count": 11,
   "id": "32c1d8ff",
   "metadata": {},
   "outputs": [
    {
     "name": "stdout",
     "output_type": "stream",
     "text": [
      "    *\n",
      "    *\n",
      " ****\n",
      "*   *\n",
      " ****\n"
     ]
    }
   ],
   "source": [
    "a=1\n",
    "for a in range(6):\n",
    "    if a==1:\n",
    "        print(\"    *\")\n",
    "    elif a==2:\n",
    "        print(\"    *\")\n",
    "    elif a==3:\n",
    "        print(\" ****\")\n",
    "    elif a==4:\n",
    "        print(\"*   *\")\n",
    "    elif a==5:\n",
    "        print(\" ****\")"
   ]
  },
  {
   "cell_type": "code",
   "execution_count": 12,
   "id": "7822c920",
   "metadata": {},
   "outputs": [
    {
     "name": "stdout",
     "output_type": "stream",
     "text": [
      "     \n",
      " **** \n",
      "******\n",
      "*   \n",
      " ****\n"
     ]
    }
   ],
   "source": [
    "a=1\n",
    "for a in range(6):\n",
    "    if a==1:\n",
    "        print(\"     \")\n",
    "    elif a==2:\n",
    "        print(\" **** \")\n",
    "    elif a==3:\n",
    "        print(\"******\")\n",
    "    elif a==4:\n",
    "        print(\"*   \")\n",
    "    elif a==5:\n",
    "        print(\" ****\")"
   ]
  },
  {
   "cell_type": "code",
   "execution_count": 16,
   "id": "c39c42e4",
   "metadata": {},
   "outputs": [
    {
     "name": "stdout",
     "output_type": "stream",
     "text": [
      "   ***\n",
      "  *  \n",
      " **** \n",
      "  *  \n",
      "  *  \n"
     ]
    }
   ],
   "source": [
    "a=1\n",
    "for a in range(6):\n",
    "    if a==1:\n",
    "        print(\"   ***\")\n",
    "    elif a==2:\n",
    "        print(\"  *  \")\n",
    "    elif a==3:\n",
    "        print(\" **** \")\n",
    "    elif a==4:\n",
    "        print(\"  *  \")\n",
    "    elif a==5:\n",
    "        print(\"  *  \")"
   ]
  },
  {
   "cell_type": "code",
   "execution_count": 23,
   "id": "c97783b6",
   "metadata": {},
   "outputs": [
    {
     "name": "stdout",
     "output_type": "stream",
     "text": [
      " *** \n",
      "*   *\n",
      " ** *\n",
      "    *\n",
      "*   *\n",
      " *** \n"
     ]
    }
   ],
   "source": [
    "a=1\n",
    "for a in range(7):\n",
    "    if a==1:\n",
    "        print(\" *** \")\n",
    "    elif a==2:\n",
    "        print(\"*   *\")\n",
    "    elif a==3:\n",
    "        print(\" ** *\")\n",
    "    elif a==4:\n",
    "        print(\"    *\")\n",
    "    elif a==5:\n",
    "        print(\"*   *\")\n",
    "    elif a==6:\n",
    "        print(\" *** \")"
   ]
  },
  {
   "cell_type": "code",
   "execution_count": 25,
   "id": "ca60e080",
   "metadata": {},
   "outputs": [
    {
     "name": "stdout",
     "output_type": "stream",
     "text": [
      "*    \n",
      "*    \n",
      "**** \n",
      "*   *\n",
      "*   *\n"
     ]
    }
   ],
   "source": [
    "a=1\n",
    "for a in range(6):\n",
    "    if a==1:\n",
    "        print(\"*    \")\n",
    "    elif a==2:\n",
    "        print(\"*    \")\n",
    "    elif a==3:\n",
    "        print(\"**** \")\n",
    "    elif a==4:\n",
    "        print(\"*   *\")\n",
    "    elif a==5:\n",
    "        print(\"*   *\")"
   ]
  },
  {
   "cell_type": "code",
   "execution_count": 28,
   "id": "ffd10f80",
   "metadata": {},
   "outputs": [
    {
     "name": "stdout",
     "output_type": "stream",
     "text": [
      " *\n",
      "** \n",
      " *\n",
      " *\n",
      "  **\n"
     ]
    }
   ],
   "source": [
    "a=1\n",
    "for a in range(6):\n",
    "    if a==1:\n",
    "        print(\" *\")\n",
    "    elif a==2:\n",
    "        print(\"** \")\n",
    "    elif a==3:\n",
    "        print(\" *\")\n",
    "    elif a==4:\n",
    "        print(\" *\")\n",
    "    elif a==5:\n",
    "        print(\"  **\")"
   ]
  },
  {
   "cell_type": "code",
   "execution_count": 30,
   "id": "63a1be7b",
   "metadata": {},
   "outputs": [
    {
     "name": "stdout",
     "output_type": "stream",
     "text": [
      "   * \n",
      "  **\n",
      "   *\n",
      "*  *\n",
      " ** \n"
     ]
    }
   ],
   "source": [
    "a=1\n",
    "for a in range(6):\n",
    "    if a==1:\n",
    "        print(\"   * \")\n",
    "    elif a==2:\n",
    "        print(\"  **\")\n",
    "    elif a==3:\n",
    "        print(\"   *\")\n",
    "    elif a==4:\n",
    "        print(\"*  *\")\n",
    "    elif a==5:\n",
    "        print(\" ** \")"
   ]
  },
  {
   "cell_type": "code",
   "execution_count": 32,
   "id": "cba0bdc1",
   "metadata": {},
   "outputs": [
    {
     "name": "stdout",
     "output_type": "stream",
     "text": [
      "*\n",
      "*    *\n",
      "*  * \n",
      "**\n",
      "*  *\n",
      "*    *\n"
     ]
    }
   ],
   "source": [
    "a=1\n",
    "for a in range(7):\n",
    "    if a==1:\n",
    "     print(\"*\")\n",
    "    elif a==2:\n",
    "     print(\"*    *\")\n",
    "    elif a==3:\n",
    "     print(\"*  * \")\n",
    "    elif a==4:\n",
    "     print(\"**\")\n",
    "    elif a==5:\n",
    "     print(\"*  *\")\n",
    "    elif a==6:\n",
    "     print(\"*    *\")"
   ]
  },
  {
   "cell_type": "code",
   "execution_count": 33,
   "id": "faffdb78",
   "metadata": {},
   "outputs": [
    {
     "name": "stdout",
     "output_type": "stream",
     "text": [
      "*\n",
      "*\n",
      "*\n",
      "*\n",
      "*\n"
     ]
    }
   ],
   "source": [
    "a=1\n",
    "for a in range(6):\n",
    "    if a==1:\n",
    "        print(\"*\")\n",
    "    elif a==2:\n",
    "        print(\"*\")\n",
    "    elif a==3:\n",
    "        print(\"*\")\n",
    "    elif a==4:\n",
    "        print(\"*\")\n",
    "    elif a==5:\n",
    "        print(\"*\")"
   ]
  },
  {
   "cell_type": "code",
   "execution_count": 34,
   "id": "d7b80457",
   "metadata": {},
   "outputs": [
    {
     "name": "stdout",
     "output_type": "stream",
     "text": [
      "* *** ***\n",
      " *   *   *\n",
      " *   *   *\n",
      " *   *   *\n"
     ]
    }
   ],
   "source": [
    "a=1\n",
    "for a in range(6):\n",
    "    if a==1:\n",
    "        print(\"* *** ***\")\n",
    "    elif a==2:\n",
    "        print(\" *   *   *\")\n",
    "    elif a==3:\n",
    "        print(\" *   *   *\")\n",
    "    elif a==4:\n",
    "        print(\" *   *   *\")"
   ]
  },
  {
   "cell_type": "code",
   "execution_count": 35,
   "id": "0e00251d",
   "metadata": {},
   "outputs": [
    {
     "name": "stdout",
     "output_type": "stream",
     "text": [
      "\n",
      "* ***\n",
      " *   *\n",
      " *   *\n",
      " *   *\n"
     ]
    }
   ],
   "source": [
    "a=1\n",
    "for a in range(6):\n",
    "    if a==1:\n",
    "        print(\"\")\n",
    "    elif a==2:\n",
    "        print(\"* ***\")\n",
    "    elif a==3:\n",
    "        print(\" *   *\")\n",
    "    elif a==4:\n",
    "        print(\" *   *\")\n",
    "    elif a==5:\n",
    "        print(\" *   *\")"
   ]
  },
  {
   "cell_type": "code",
   "execution_count": 36,
   "id": "da924cc4",
   "metadata": {},
   "outputs": [
    {
     "name": "stdout",
     "output_type": "stream",
     "text": [
      " ***\n",
      "*   *\n",
      "*   *\n",
      " ***\n"
     ]
    }
   ],
   "source": [
    "a=1\n",
    "for a in range(5):\n",
    "    if a==1:\n",
    "        print(\" ***\" )\n",
    "    elif a==2:\n",
    "        print(\"*   *\")\n",
    "    elif a==3:\n",
    "        print(\"*   *\")\n",
    "    elif a==4:\n",
    "        print(\" ***\")"
   ]
  },
  {
   "cell_type": "code",
   "execution_count": 39,
   "id": "994038df",
   "metadata": {},
   "outputs": [
    {
     "name": "stdout",
     "output_type": "stream",
     "text": [
      "*\n",
      " ****\n",
      " *   *\n",
      " ****\n",
      " *\n",
      " *\n"
     ]
    }
   ],
   "source": [
    "a=1\n",
    "for a in range(7):\n",
    "    if a==1:\n",
    "        print(\"*\")\n",
    "    elif a==2:\n",
    "        print(\" ****\")\n",
    "    elif a==3:\n",
    "        print(\" *   *\")\n",
    "    elif a==4:\n",
    "        print(\" ****\")\n",
    "    elif a==5:\n",
    "        print(\" *\")\n",
    "    elif a==6:\n",
    "        print(\" *\")"
   ]
  },
  {
   "cell_type": "code",
   "execution_count": 41,
   "id": "ccba1789",
   "metadata": {},
   "outputs": [
    {
     "name": "stdout",
     "output_type": "stream",
     "text": [
      "     *\n",
      " ****\n",
      "*   *\n",
      " ****\n",
      "    * *\n",
      "    *\n"
     ]
    }
   ],
   "source": [
    "a=0\n",
    "for a in range(6):\n",
    "    if a==0:\n",
    "        print(\"     *\")\n",
    "    elif a==1:\n",
    "        print(\" ****\")\n",
    "    elif a==2:\n",
    "        print(\"*   *\")\n",
    "    elif a==3:\n",
    "        print(\" ****\")\n",
    "    elif a==4:\n",
    "        print(\"    * *\")\n",
    "    elif a==5:\n",
    "        print(\"    *\")"
   ]
  },
  {
   "cell_type": "code",
   "execution_count": 42,
   "id": "3d5c733a",
   "metadata": {},
   "outputs": [
    {
     "name": "stdout",
     "output_type": "stream",
     "text": [
      "* ***\n",
      " *  **\n",
      " *\n",
      " *\n"
     ]
    }
   ],
   "source": [
    "a=1\n",
    "for a in range(5):\n",
    "    if a==1:\n",
    "        print(\"* ***\")\n",
    "    elif a==2:\n",
    "        print(\" *  **\")\n",
    "    elif a==3:\n",
    "        print(\" *\")\n",
    "    elif a==4:\n",
    "        print(\" *\")"
   ]
  },
  {
   "cell_type": "code",
   "execution_count": 43,
   "id": "e2399eae",
   "metadata": {},
   "outputs": [
    {
     "name": "stdout",
     "output_type": "stream",
     "text": [
      " ****\n",
      "*\n",
      " ****\n",
      "     *\n",
      " ****\n"
     ]
    }
   ],
   "source": [
    "a=1\n",
    "for a in range(6):\n",
    "    if a==1:\n",
    "        print(\" ****\")\n",
    "    elif a==2:\n",
    "        print(\"*\")\n",
    "    elif a==3:\n",
    "        print(\" ****\")\n",
    "    elif a==4:\n",
    "        print(\"     *\")\n",
    "    elif a==5:\n",
    "        print(\" ****\")"
   ]
  },
  {
   "cell_type": "code",
   "execution_count": null,
   "id": "64113ea5",
   "metadata": {},
   "outputs": [],
   "source": []
  },
  {
   "cell_type": "code",
   "execution_count": 46,
   "id": "bc908b40",
   "metadata": {},
   "outputs": [
    {
     "name": "stdout",
     "output_type": "stream",
     "text": [
      " *\n",
      "****\n",
      " *\n",
      " *\n",
      "  **\n"
     ]
    }
   ],
   "source": [
    "a=1\n",
    "for a in range(6):\n",
    "    if a==1:\n",
    "        print(\" *\")\n",
    "    elif a==2:\n",
    "        print(\"****\")\n",
    "    elif a==3:\n",
    "        print(\" *\")\n",
    "    elif a==4:\n",
    "        print(\" *\")\n",
    "    elif a==5:\n",
    "        print(\"  **\")"
   ]
  },
  {
   "cell_type": "code",
   "execution_count": 47,
   "id": "91a4a39c",
   "metadata": {},
   "outputs": [
    {
     "name": "stdout",
     "output_type": "stream",
     "text": [
      "*    *\n",
      "*    *\n",
      "*    *\n",
      " **** *\n"
     ]
    }
   ],
   "source": [
    "a=1\n",
    "for a in range(5):\n",
    "    if a==1:\n",
    "        print(\"*    *\")\n",
    "    elif a==2:\n",
    "        print(\"*    *\")\n",
    "    elif a==3:\n",
    "        print(\"*    *\")\n",
    "    elif a==4:\n",
    "        print(\" **** *\")"
   ]
  },
  {
   "cell_type": "code",
   "execution_count": 48,
   "id": "2135707b",
   "metadata": {},
   "outputs": [
    {
     "name": "stdout",
     "output_type": "stream",
     "text": [
      "*     *\n",
      " *   *\n",
      "  * *\n",
      "   *\n"
     ]
    }
   ],
   "source": [
    "a=1\n",
    "for a in range(5):\n",
    "    if a==1:\n",
    "        print(\"*     *\")\n",
    "    elif a==2:\n",
    "        print(\" *   *\")\n",
    "    elif a==3:\n",
    "        print(\"  * *\")\n",
    "    elif a==4:\n",
    "        print(\"   *\")"
   ]
  },
  {
   "cell_type": "code",
   "execution_count": 51,
   "id": "23c5b4da",
   "metadata": {},
   "outputs": [
    {
     "name": "stdout",
     "output_type": "stream",
     "text": [
      "*   *   *\n",
      "*   *   *\n",
      "*   *   *\n",
      " **   **\n"
     ]
    }
   ],
   "source": [
    "a=1\n",
    "for a in range(6):\n",
    "    if a==1:\n",
    "        print(\"*   *   *\")\n",
    "    elif a==2:\n",
    "        print(\"*   *   *\")\n",
    "    elif a==3:\n",
    "        print(\"*   *   *\")\n",
    "    elif a==4:\n",
    "        print(\" **   **\")"
   ]
  },
  {
   "cell_type": "code",
   "execution_count": 54,
   "id": "80566901",
   "metadata": {},
   "outputs": [
    {
     "name": "stdout",
     "output_type": "stream",
     "text": [
      "*     *\n",
      "  * *\n",
      "   *\n",
      "  * *\n",
      "*     *\n"
     ]
    }
   ],
   "source": [
    "a=1\n",
    "for a in range(6):\n",
    "    if a==1:\n",
    "        print(\"*     *\")\n",
    "    elif a==2:\n",
    "        print(\"  * *\")\n",
    "    elif a==3:\n",
    "        print(\"   *\")\n",
    "    elif a==4:\n",
    "        print(\"  * *\")\n",
    "    elif a==5:\n",
    "        print(\"*     *\")"
   ]
  },
  {
   "cell_type": "code",
   "execution_count": 55,
   "id": "5c6df49f",
   "metadata": {},
   "outputs": [
    {
     "name": "stdout",
     "output_type": "stream",
     "text": [
      "*   *\n",
      "*   *\n",
      " ****\n",
      "    *\n",
      "****\n"
     ]
    }
   ],
   "source": [
    "a=1\n",
    "for a in range(6):\n",
    "    if a==1:\n",
    "        print(\"*   *\")\n",
    "    elif a==2:\n",
    "        print(\"*   *\")\n",
    "    elif a==3:\n",
    "        print(\" ****\")\n",
    "    elif a==4:\n",
    "        print(\"    *\")\n",
    "    elif a==5:\n",
    "        print(\"****\")"
   ]
  },
  {
   "cell_type": "code",
   "execution_count": 57,
   "id": "8aaea3a6",
   "metadata": {},
   "outputs": [
    {
     "name": "stdout",
     "output_type": "stream",
     "text": [
      "****\n",
      "  *\n",
      " *\n",
      "****\n"
     ]
    }
   ],
   "source": [
    "a=1\n",
    "for a in range(6):\n",
    "    if a==1:\n",
    "        print(\"****\")\n",
    "    elif a==2:\n",
    "        print(\"  *\")\n",
    "    elif a==3:\n",
    "        print(\" *\")\n",
    "    elif a==4:\n",
    "        print(\"****\")"
   ]
  },
  {
   "cell_type": "code",
   "execution_count": null,
   "id": "6c99a414",
   "metadata": {},
   "outputs": [],
   "source": []
  },
  {
   "cell_type": "code",
   "execution_count": null,
   "id": "c999e02b",
   "metadata": {},
   "outputs": [],
   "source": []
  }
 ],
 "metadata": {
  "kernelspec": {
   "display_name": "Python 3 (ipykernel)",
   "language": "python",
   "name": "python3"
  },
  "language_info": {
   "codemirror_mode": {
    "name": "ipython",
    "version": 3
   },
   "file_extension": ".py",
   "mimetype": "text/x-python",
   "name": "python",
   "nbconvert_exporter": "python",
   "pygments_lexer": "ipython3",
   "version": "3.9.7"
  }
 },
 "nbformat": 4,
 "nbformat_minor": 5
}
